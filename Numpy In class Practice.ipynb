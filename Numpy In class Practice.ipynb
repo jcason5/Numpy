{
 "cells": [
  {
   "cell_type": "markdown",
   "id": "b079616b",
   "metadata": {},
   "source": [
    "# Numpy- inclass assignment \n",
    "## Submit your work using GitHub to Moodle"
   ]
  },
  {
   "cell_type": "markdown",
   "id": "82127cdd",
   "metadata": {},
   "source": [
    "### Generate a random numpy array for Month of October where the highest temperature varies between 48-81 degree Farenheit\n",
    "- Keep in mind the length of the month\n",
    "- set a random seed of 1 for regenerate\n",
    "- Display the numpy array named `Temp_O` and find out the minimum and maximum temperature of month"
   ]
  },
  {
   "cell_type": "code",
   "execution_count": 11,
   "id": "8c94eaf9",
   "metadata": {},
   "outputs": [
    {
     "name": "stdout",
     "output_type": "stream",
     "text": [
      "[60 56 57 59 53 63 48 64 49 60 55 54 73 68 66 68 59 76 77 62 52 71 71 78\n",
      " 80 70 61 57 55 70 49]\n"
     ]
    }
   ],
   "source": [
    "import numpy as np\n",
    "np.random.seed(1)\n",
    "Temp_O=np.random.randint(48,81, size=31)\n",
    "print(Temp_O)"
   ]
  },
  {
   "cell_type": "code",
   "execution_count": 29,
   "id": "2fb52e4d",
   "metadata": {},
   "outputs": [
    {
     "data": {
      "text/plain": [
       "48"
      ]
     },
     "execution_count": 29,
     "metadata": {},
     "output_type": "execute_result"
    }
   ],
   "source": [
    "np.min(Temp_O)"
   ]
  },
  {
   "cell_type": "code",
   "execution_count": 30,
   "id": "a5d14159",
   "metadata": {},
   "outputs": [
    {
     "data": {
      "text/plain": [
       "80"
      ]
     },
     "execution_count": 30,
     "metadata": {},
     "output_type": "execute_result"
    }
   ],
   "source": [
    "np.max(Temp_O)"
   ]
  },
  {
   "cell_type": "markdown",
   "id": "9ce763ee",
   "metadata": {},
   "source": [
    "### Load the numpy file `Temp_December` and store it to a variable named Temp_D"
   ]
  },
  {
   "cell_type": "code",
   "execution_count": 12,
   "id": "fbfa1c12",
   "metadata": {},
   "outputs": [
    {
     "name": "stdout",
     "output_type": "stream",
     "text": [
      "[44 50 19 15 16 18 12 22  7 23  8 19 14 52 13 32 57 27 44 25 27 18 49 35\n",
      " 36 21 57 11 30 30 48]\n"
     ]
    }
   ],
   "source": [
    "Temp_D=np.load(\"Temp_December.npy\")\n",
    "print(Temp_D)"
   ]
  },
  {
   "cell_type": "code",
   "execution_count": null,
   "id": "bd2c01da",
   "metadata": {},
   "outputs": [],
   "source": []
  },
  {
   "cell_type": "code",
   "execution_count": null,
   "id": "e8fc4e1e",
   "metadata": {},
   "outputs": [],
   "source": []
  },
  {
   "cell_type": "markdown",
   "id": "a9847e78",
   "metadata": {},
   "source": [
    "### Compare two numpy array - Temp_O and Temp_D\n",
    "- Elementwise\n",
    "- Arraywise"
   ]
  },
  {
   "cell_type": "code",
   "execution_count": 13,
   "id": "9b9a8704",
   "metadata": {},
   "outputs": [
    {
     "data": {
      "text/plain": [
       "array([ True,  True,  True,  True,  True,  True,  True,  True,  True,\n",
       "        True,  True,  True,  True,  True,  True,  True,  True,  True,\n",
       "        True,  True,  True,  True,  True,  True,  True,  True,  True,\n",
       "        True,  True,  True,  True])"
      ]
     },
     "execution_count": 13,
     "metadata": {},
     "output_type": "execute_result"
    }
   ],
   "source": [
    "Temp_O>Temp_D"
   ]
  },
  {
   "cell_type": "code",
   "execution_count": 14,
   "id": "320c046b",
   "metadata": {},
   "outputs": [
    {
     "data": {
      "text/plain": [
       "array([False, False, False, False, False, False, False, False, False,\n",
       "       False, False, False, False, False, False, False, False, False,\n",
       "       False, False, False, False, False, False, False, False, False,\n",
       "       False, False, False, False])"
      ]
     },
     "execution_count": 14,
     "metadata": {},
     "output_type": "execute_result"
    }
   ],
   "source": [
    "Temp_O==Temp_D"
   ]
  },
  {
   "cell_type": "code",
   "execution_count": 27,
   "id": "1fcf5386",
   "metadata": {},
   "outputs": [
    {
     "data": {
      "text/plain": [
       "False"
      ]
     },
     "execution_count": 27,
     "metadata": {},
     "output_type": "execute_result"
    }
   ],
   "source": [
    "np.array_equal(Temp_O, Temp_D)"
   ]
  },
  {
   "cell_type": "markdown",
   "id": "0a88755c",
   "metadata": {},
   "source": [
    "### Find out the:\n",
    "- Average temperature\n",
    "- Standard deviation\n",
    "- Varience\n",
    "- Minimum temp\n",
    "- Maximum temp\n",
    "- Median\n",
    "#### for Month of December"
   ]
  },
  {
   "cell_type": "code",
   "execution_count": 15,
   "id": "a2f7560c",
   "metadata": {},
   "outputs": [
    {
     "name": "stdout",
     "output_type": "stream",
     "text": [
      "average temp 28\n"
     ]
    }
   ],
   "source": [
    "print(\"average temp\", round(np.mean(Temp_D)))"
   ]
  },
  {
   "cell_type": "code",
   "execution_count": 16,
   "id": "00e36e9f",
   "metadata": {},
   "outputs": [
    {
     "name": "stdout",
     "output_type": "stream",
     "text": [
      "Std temp 15\n"
     ]
    }
   ],
   "source": [
    "print(\"Std temp\", round(np.std(Temp_D)))"
   ]
  },
  {
   "cell_type": "code",
   "execution_count": 17,
   "id": "8dd8d28b",
   "metadata": {},
   "outputs": [
    {
     "name": "stdout",
     "output_type": "stream",
     "text": [
      "Veriance temp 220\n"
     ]
    }
   ],
   "source": [
    "print(\"Veriance temp\", round(np.var(Temp_D)))"
   ]
  },
  {
   "cell_type": "code",
   "execution_count": 18,
   "id": "6f8fa8b6",
   "metadata": {},
   "outputs": [
    {
     "name": "stdout",
     "output_type": "stream",
     "text": [
      "Min temp 7\n"
     ]
    }
   ],
   "source": [
    "print(\"Min temp\", round(np.min(Temp_D)))"
   ]
  },
  {
   "cell_type": "code",
   "execution_count": 19,
   "id": "871c0284",
   "metadata": {},
   "outputs": [
    {
     "name": "stdout",
     "output_type": "stream",
     "text": [
      "Max temp 57\n"
     ]
    }
   ],
   "source": [
    "print(\"Max temp\", round(np.max(Temp_D)))"
   ]
  },
  {
   "cell_type": "code",
   "execution_count": 20,
   "id": "bac6a944",
   "metadata": {},
   "outputs": [
    {
     "name": "stdout",
     "output_type": "stream",
     "text": [
      "Median temp 25\n"
     ]
    }
   ],
   "source": [
    "print(\"Median temp\", round(np.median(Temp_D)))"
   ]
  },
  {
   "cell_type": "markdown",
   "id": "a8bfea7e",
   "metadata": {},
   "source": [
    "### Plot the distribution of December Temperature using Matplotlib\n",
    "- add title and create proper labels"
   ]
  },
  {
   "cell_type": "code",
   "execution_count": 22,
   "id": "5e8310b6",
   "metadata": {},
   "outputs": [
    {
     "data": {
      "image/png": "[encoded data removed]",
      "text/plain": [
       "<Figure size 640x480 with 1 Axes>"
      ]
     },
     "metadata": {},
     "output_type": "display_data"
    }
   ],
   "source": [
    "import matplotlib.pyplot as plt\n",
    "plt.hist(Temp_D)\n",
    "plt.title(\"Temp Dist. December\")\n",
    "plt.xlabel(\"Temp (F)\")\n",
    "plt.ylabel(\"Count\")\n",
    "plt.show()"
   ]
  },
  {
   "cell_type": "code",
   "execution_count": null,
   "id": "f76d25ca",
   "metadata": {},
   "outputs": [],
   "source": []
  },
  {
   "cell_type": "markdown",
   "id": "4ac618ad",
   "metadata": {},
   "source": [
    "### Convert the Temp_D to Celsius and store it to a variable names Temp_C. \n",
    "- Round off the result\n",
    "- Save it to a numpy file called DecemberTemp_Celsius"
   ]
  },
  {
   "cell_type": "code",
   "execution_count": 23,
   "id": "6942dd4c",
   "metadata": {},
   "outputs": [
    {
     "name": "stdout",
     "output_type": "stream",
     "text": [
      "[44 50 19 15 16 18 12 22  7 23  8 19 14 52 13 32 57 27 44 25 27 18 49 35\n",
      " 36 21 57 11 30 30 48]\n"
     ]
    }
   ],
   "source": [
    "print(Temp_D)"
   ]
  },
  {
   "cell_type": "code",
   "execution_count": 24,
   "id": "5afdbbe0",
   "metadata": {},
   "outputs": [
    {
     "data": {
      "text/plain": [
       "array([  7.,  10.,  -7.,  -9.,  -9.,  -8., -11.,  -6., -14.,  -5., -13.,\n",
       "        -7., -10.,  11., -11.,   0.,  14.,  -3.,   7.,  -4.,  -3.,  -8.,\n",
       "         9.,   2.,   2.,  -6.,  14., -12.,  -1.,  -1.,   9.])"
      ]
     },
     "execution_count": 24,
     "metadata": {},
     "output_type": "execute_result"
    }
   ],
   "source": [
    "Temp_C=np.round(5/9*(Temp_D-32))\n",
    "Temp_C"
   ]
  },
  {
   "cell_type": "code",
   "execution_count": 25,
   "id": "7819fcab",
   "metadata": {},
   "outputs": [],
   "source": [
    "np.save(\"Temp_C.npy\", Temp_C)"
   ]
  },
  {
   "cell_type": "code",
   "execution_count": 28,
   "id": "c1105039",
   "metadata": {},
   "outputs": [
    {
     "data": {
      "text/plain": [
       "array([  7.,  10.,  -7.,  -9.,  -9.,  -8., -11.,  -6., -14.,  -5., -13.,\n",
       "        -7., -10.,  11., -11.,   0.,  14.,  -3.,   7.,  -4.,  -3.,  -8.,\n",
       "         9.,   2.,   2.,  -6.,  14., -12.,  -1.,  -1.,   9.])"
      ]
     },
     "execution_count": 28,
     "metadata": {},
     "output_type": "execute_result"
    }
   ],
   "source": [
    "np.load(\"Temp_C.npy\")"
   ]
  },
  {
   "cell_type": "code",
   "execution_count": null,
   "id": "6a29a9d9",
   "metadata": {},
   "outputs": [],
   "source": []
  }
 ],
 "metadata": {
  "kernelspec": {
   "display_name": "Python 3 (ipykernel)",
   "language": "python",
   "name": "python3"
  },
  "language_info": {
   "codemirror_mode": {
    "name": "ipython",
    "version": 3
   },
   "file_extension": ".py",
   "mimetype": "text/x-python",
   "name": "python",
   "nbconvert_exporter": "python",
   "pygments_lexer": "ipython3",
   "version": "3.11.4"
  }
 },
 "nbformat": 4,
 "nbformat_minor": 5
}
